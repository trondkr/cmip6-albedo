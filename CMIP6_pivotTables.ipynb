{
 "cells": [
  {
   "cell_type": "code",
   "execution_count": 1,
   "metadata": {},
   "outputs": [
    {
     "name": "stderr",
     "output_type": "stream",
     "text": [
      "<ipython-input-1-c85a82a673b8>:9: FutureWarning: Passing a negative integer is deprecated in version 1.0 and will not be supported in future version. Instead, use None to not limit the column width.\n",
      "  pd.set_option('display.max_colwidth', -1)\n"
     ]
    }
   ],
   "source": [
    "import pandas as pd\n",
    "import numpy as np\n",
    "import gcsfs\n",
    "import sys\n",
    "import xarray as xr\n",
    "pd.set_option('display.max_rows', None)\n",
    "pd.set_option('display.max_columns', None)\n",
    "pd.set_option('display.width', None)\n",
    "pd.set_option('display.max_colwidth', -1)"
   ]
  },
  {
   "cell_type": "code",
   "execution_count": 2,
   "metadata": {},
   "outputs": [],
   "source": [
    "df = pd.read_csv('https://cmip6.storage.googleapis.com/cmip6-zarr-consolidated-stores.csv')"
   ]
  },
  {
   "cell_type": "code",
   "execution_count": 3,
   "metadata": {},
   "outputs": [],
   "source": [
    "# define a simple search on keywords\n",
    "def search_df(df, verbose= False, **search):\n",
    "    \"search by keywords - if list, then match exactly, otherwise match as substring\"\n",
    "    keys = ['activity_id','institution_id','source_id','experiment_id','member_id', 'table_id', 'variable_id', 'grid_label']\n",
    "    d = df\n",
    "    for skey in search.keys():\n",
    "        \n",
    "        if isinstance(search[skey], str):  # match a string as a substring\n",
    "            d = d[d[skey].str.contains(search[skey])]\n",
    "        else:\n",
    "            dk = []\n",
    "            for key in search[skey]:       # match a list of strings exactly\n",
    "                dk += [d[d[skey]==key]]\n",
    "            d = pd.concat(dk)\n",
    "            keys.remove(skey)\n",
    "    if verbose:\n",
    "        for key in keys:\n",
    "            print(key,' = ',list(d[key].unique()))      \n",
    "    return d"
   ]
  },
  {
   "cell_type": "code",
   "execution_count": 4,
   "metadata": {},
   "outputs": [],
   "source": [
    "#dfp = search_df(df, experiment_id=['historical','ssp585'], table_id=['Omon','Amon'], variable_id=[\"uas\",\"vas\",\"tos\"], grid_label=['gr'])\n",
    "dfp = search_df(df,\n",
    "                experiment_id=[\"historical\",\"ssp585\",\"ssp245\"],\n",
    "                table_id=[\"Amon\",\"Amon\",\"Amon\",\"Amon\",\"Omon\",\"SImon\", \"SImon\",\"SImon\",\"SImon\"],\n",
    "                variable_id=[\"uas\",\"vas\",\"tas\",\"clt\",\"chl\",\"sithick\", \"siconc\", \"sisnthick\", \"sisnconc\"],\n",
    "                grid_label=['gn'])\n",
    "#dfp = search_df(df, experiment_id=['historical','ssp585'], member_id=['r1i1p1f1'],table_id=['Amon','SImon','Omon','Amon'], variable_id=[\"uas\",\"vas\",\"chl\",\"clt\"], grid_label=['gn'])\n"
   ]
  },
  {
   "cell_type": "code",
   "execution_count": 5,
   "metadata": {},
   "outputs": [],
   "source": [
    "dm = dfp[[\"experiment_id\",\"source_id\",\"variable_id\",\"member_id\",\"grid_label\"]].groupby([\"member_id\",\"source_id\",\"experiment_id\",\"grid_label\"]).nunique()[[\"variable_id\"]]"
   ]
  },
  {
   "cell_type": "code",
   "execution_count": 6,
   "outputs": [
    {
     "data": {
      "text/plain": "grid_label                        gn              \nexperiment_id             historical ssp245 ssp585\nsource_id       member_id                         \nACCESS-ESM1-5   r10i1p1f1  5          9      9    \n                r10i1p1f1  5          9      9    \n                r11i1p1f1  9          4      0    \n                r12i1p1f1  9          5      0    \n                r13i1p1f1  9          7      0    \n                r14i1p1f1  9          2      0    \n                r15i1p1f1  9          3      0    \n                r16i1p1f1  9          1      0    \n                r17i1p1f1  9          3      0    \n                r18i1p1f1  9          2      0    \n                r19i1p1f1  9          5      0    \n                r1i1p1f1   9          9      9    \n                r1i1p1f1   9          9      9    \n                r1i1p1f1   9          9      9    \n                r20i1p1f1  9          1      0    \n                r2i1p1f1   9          9      9    \n                r2i1p1f1   9          9      9    \n                r2i1p1f1   9          9      9    \n                r3i1p1f1   9          9      9    \n                r3i1p1f1   9          9      9    \n                r3i1p1f1   9          9      9    \n                r4i1p1f1   9          9      9    \n                r4i1p1f1   9          9      9    \n                r4i1p1f1   9          9      9    \n                r5i1p1f1   9          9      9    \n                r5i1p1f1   9          9      9    \n                r5i1p1f1   9          9      9    \n                r6i1p1f1   9          8      9    \n                r6i1p1f1   9          8      9    \n                r7i1p1f1   8          9      9    \n                r7i1p1f1   8          9      9    \n                r8i1p1f1   5          9      9    \n                r8i1p1f1   5          9      9    \n                r9i1p1f1   5          8      9    \nCMCC-ESM2       r1i1p1f1   9          6      7    \nCanESM5         r10i1p2f1  9          9      9    \n                r10i1p2f1  9          9      9    \n                r10i1p2f1  9          9      9    \n                r1i1p2f1   9          9      9    \n                r1i1p2f1   9          9      9    \n                r1i1p2f1   9          9      9    \n                r2i1p2f1   9          9      9    \n                r2i1p2f1   9          9      9    \n                r2i1p2f1   9          9      9    \n                r3i1p2f1   9          9      9    \n                r3i1p2f1   9          9      9    \n                r3i1p2f1   9          9      9    \n                r4i1p2f1   9          9      9    \n                r4i1p2f1   9          9      9    \n                r4i1p2f1   9          9      9    \n                r5i1p2f1   9          9      9    \n                r5i1p2f1   9          9      9    \n                r5i1p2f1   9          9      9    \n                r6i1p2f1   9          9      9    \n                r6i1p2f1   9          9      9    \n                r6i1p2f1   9          9      9    \n                r7i1p2f1   9          9      9    \n                r7i1p2f1   9          9      9    \n                r7i1p2f1   9          9      9    \n                r8i1p2f1   9          9      9    \n                r8i1p2f1   9          9      9    \n                r8i1p2f1   9          9      9    \n                r9i1p2f1   9          9      9    \n                r9i1p2f1   9          9      9    \n                r9i1p2f1   9          9      9    \nMPI-ESM-1-2-HAM r1i1p1f1   9          0      0    \n                r2i1p1f1   9          0      0    \n                r3i1p1f1   9          0      0    \nMPI-ESM1-2-HR   r10i1p1f1  9          0      0    \n                r1i1p1f1   9          9      9    \n                r1i1p1f1   9          9      9    \n                r1i1p1f1   9          9      9    \n                r2i1p1f1   9          9      9    \n                r2i1p1f1   9          9      9    \n                r2i1p1f1   9          9      9    \n                r3i1p1f1   9          0      0    \n                r4i1p1f1   9          0      0    \n                r5i1p1f1   9          0      0    \n                r6i1p1f1   9          0      0    \n                r7i1p1f1   9          0      0    \n                r8i1p1f1   9          0      0    \n                r9i1p1f1   9          0      0    \nMPI-ESM1-2-LR   r10i1p1f1  9          9      9    \n                r10i1p1f1  9          9      9    \n                r10i1p1f1  9          9      9    \n                r1i1p1f1   9          9      9    \n                r1i1p1f1   9          9      9    \n                r1i1p1f1   9          9      9    \n                r2i1p1f1   9          9      9    \n                r2i1p1f1   9          9      9    \n                r2i1p1f1   9          9      9    \n                r3i1p1f1   9          9      9    \n                r3i1p1f1   9          9      9    \n                r3i1p1f1   9          9      9    \n                r4i1p1f1   9          9      9    \n                r4i1p1f1   9          9      9    \n                r4i1p1f1   9          9      9    \n                r5i1p1f1   9          9      9    \n                r5i1p1f1   9          9      9    \n                r5i1p1f1   9          9      9    \n                r6i1p1f1   9          9      9    \n                r6i1p1f1   9          9      9    \n                r6i1p1f1   9          9      9    \n                r7i1p1f1   9          9      9    \n                r7i1p1f1   9          9      9    \n                r7i1p1f1   9          9      9    \n                r8i1p1f1   9          9      9    \n                r8i1p1f1   9          9      9    \n                r8i1p1f1   9          9      9    \n                r9i1p1f1   9          9      9    \n                r9i1p1f1   9          9      9    \n                r9i1p1f1   9          9      9    \nUKESM1-0-LL     r13i1p1f2  9          4      0    \n                r1i1p1f2   9          9      9    \n                r1i1p1f2   9          9      9    \n                r1i1p1f2   9          9      9    \n                r2i1p1f2   9          9      9    \n                r2i1p1f2   9          9      9    \n                r2i1p1f2   9          9      9    \n                r3i1p1f2   9          9      9    \n                r3i1p1f2   9          9      9    \n                r3i1p1f2   9          9      9    \n                r4i1p1f2   9          9      9    \n                r4i1p1f2   9          9      9    \n                r4i1p1f2   9          9      9    \n                r5i1p1f3   9          0      0    \n                r6i1p1f3   9          0      0    \n                r7i1p1f3   9          0      0    \n                r8i1p1f2   5          9      9    \n                r8i1p1f2   5          9      9    ",
      "text/html": "<div>\n<style scoped>\n    .dataframe tbody tr th:only-of-type {\n        vertical-align: middle;\n    }\n\n    .dataframe tbody tr th {\n        vertical-align: top;\n    }\n\n    .dataframe thead tr th {\n        text-align: left;\n    }\n\n    .dataframe thead tr:last-of-type th {\n        text-align: right;\n    }\n</style>\n<table border=\"1\" class=\"dataframe\">\n  <thead>\n    <tr>\n      <th></th>\n      <th>grid_label</th>\n      <th colspan=\"3\" halign=\"left\">gn</th>\n    </tr>\n    <tr>\n      <th></th>\n      <th>experiment_id</th>\n      <th>historical</th>\n      <th>ssp245</th>\n      <th>ssp585</th>\n    </tr>\n    <tr>\n      <th>source_id</th>\n      <th>member_id</th>\n      <th></th>\n      <th></th>\n      <th></th>\n    </tr>\n  </thead>\n  <tbody>\n    <tr>\n      <th rowspan=\"34\" valign=\"top\">ACCESS-ESM1-5</th>\n      <th>r10i1p1f1</th>\n      <td>5</td>\n      <td>9</td>\n      <td>9</td>\n    </tr>\n    <tr>\n      <th>r10i1p1f1</th>\n      <td>5</td>\n      <td>9</td>\n      <td>9</td>\n    </tr>\n    <tr>\n      <th>r11i1p1f1</th>\n      <td>9</td>\n      <td>4</td>\n      <td>0</td>\n    </tr>\n    <tr>\n      <th>r12i1p1f1</th>\n      <td>9</td>\n      <td>5</td>\n      <td>0</td>\n    </tr>\n    <tr>\n      <th>r13i1p1f1</th>\n      <td>9</td>\n      <td>7</td>\n      <td>0</td>\n    </tr>\n    <tr>\n      <th>r14i1p1f1</th>\n      <td>9</td>\n      <td>2</td>\n      <td>0</td>\n    </tr>\n    <tr>\n      <th>r15i1p1f1</th>\n      <td>9</td>\n      <td>3</td>\n      <td>0</td>\n    </tr>\n    <tr>\n      <th>r16i1p1f1</th>\n      <td>9</td>\n      <td>1</td>\n      <td>0</td>\n    </tr>\n    <tr>\n      <th>r17i1p1f1</th>\n      <td>9</td>\n      <td>3</td>\n      <td>0</td>\n    </tr>\n    <tr>\n      <th>r18i1p1f1</th>\n      <td>9</td>\n      <td>2</td>\n      <td>0</td>\n    </tr>\n    <tr>\n      <th>r19i1p1f1</th>\n      <td>9</td>\n      <td>5</td>\n      <td>0</td>\n    </tr>\n    <tr>\n      <th>r1i1p1f1</th>\n      <td>9</td>\n      <td>9</td>\n      <td>9</td>\n    </tr>\n    <tr>\n      <th>r1i1p1f1</th>\n      <td>9</td>\n      <td>9</td>\n      <td>9</td>\n    </tr>\n    <tr>\n      <th>r1i1p1f1</th>\n      <td>9</td>\n      <td>9</td>\n      <td>9</td>\n    </tr>\n    <tr>\n      <th>r20i1p1f1</th>\n      <td>9</td>\n      <td>1</td>\n      <td>0</td>\n    </tr>\n    <tr>\n      <th>r2i1p1f1</th>\n      <td>9</td>\n      <td>9</td>\n      <td>9</td>\n    </tr>\n    <tr>\n      <th>r2i1p1f1</th>\n      <td>9</td>\n      <td>9</td>\n      <td>9</td>\n    </tr>\n    <tr>\n      <th>r2i1p1f1</th>\n      <td>9</td>\n      <td>9</td>\n      <td>9</td>\n    </tr>\n    <tr>\n      <th>r3i1p1f1</th>\n      <td>9</td>\n      <td>9</td>\n      <td>9</td>\n    </tr>\n    <tr>\n      <th>r3i1p1f1</th>\n      <td>9</td>\n      <td>9</td>\n      <td>9</td>\n    </tr>\n    <tr>\n      <th>r3i1p1f1</th>\n      <td>9</td>\n      <td>9</td>\n      <td>9</td>\n    </tr>\n    <tr>\n      <th>r4i1p1f1</th>\n      <td>9</td>\n      <td>9</td>\n      <td>9</td>\n    </tr>\n    <tr>\n      <th>r4i1p1f1</th>\n      <td>9</td>\n      <td>9</td>\n      <td>9</td>\n    </tr>\n    <tr>\n      <th>r4i1p1f1</th>\n      <td>9</td>\n      <td>9</td>\n      <td>9</td>\n    </tr>\n    <tr>\n      <th>r5i1p1f1</th>\n      <td>9</td>\n      <td>9</td>\n      <td>9</td>\n    </tr>\n    <tr>\n      <th>r5i1p1f1</th>\n      <td>9</td>\n      <td>9</td>\n      <td>9</td>\n    </tr>\n    <tr>\n      <th>r5i1p1f1</th>\n      <td>9</td>\n      <td>9</td>\n      <td>9</td>\n    </tr>\n    <tr>\n      <th>r6i1p1f1</th>\n      <td>9</td>\n      <td>8</td>\n      <td>9</td>\n    </tr>\n    <tr>\n      <th>r6i1p1f1</th>\n      <td>9</td>\n      <td>8</td>\n      <td>9</td>\n    </tr>\n    <tr>\n      <th>r7i1p1f1</th>\n      <td>8</td>\n      <td>9</td>\n      <td>9</td>\n    </tr>\n    <tr>\n      <th>r7i1p1f1</th>\n      <td>8</td>\n      <td>9</td>\n      <td>9</td>\n    </tr>\n    <tr>\n      <th>r8i1p1f1</th>\n      <td>5</td>\n      <td>9</td>\n      <td>9</td>\n    </tr>\n    <tr>\n      <th>r8i1p1f1</th>\n      <td>5</td>\n      <td>9</td>\n      <td>9</td>\n    </tr>\n    <tr>\n      <th>r9i1p1f1</th>\n      <td>5</td>\n      <td>8</td>\n      <td>9</td>\n    </tr>\n    <tr>\n      <th>CMCC-ESM2</th>\n      <th>r1i1p1f1</th>\n      <td>9</td>\n      <td>6</td>\n      <td>7</td>\n    </tr>\n    <tr>\n      <th rowspan=\"30\" valign=\"top\">CanESM5</th>\n      <th>r10i1p2f1</th>\n      <td>9</td>\n      <td>9</td>\n      <td>9</td>\n    </tr>\n    <tr>\n      <th>r10i1p2f1</th>\n      <td>9</td>\n      <td>9</td>\n      <td>9</td>\n    </tr>\n    <tr>\n      <th>r10i1p2f1</th>\n      <td>9</td>\n      <td>9</td>\n      <td>9</td>\n    </tr>\n    <tr>\n      <th>r1i1p2f1</th>\n      <td>9</td>\n      <td>9</td>\n      <td>9</td>\n    </tr>\n    <tr>\n      <th>r1i1p2f1</th>\n      <td>9</td>\n      <td>9</td>\n      <td>9</td>\n    </tr>\n    <tr>\n      <th>r1i1p2f1</th>\n      <td>9</td>\n      <td>9</td>\n      <td>9</td>\n    </tr>\n    <tr>\n      <th>r2i1p2f1</th>\n      <td>9</td>\n      <td>9</td>\n      <td>9</td>\n    </tr>\n    <tr>\n      <th>r2i1p2f1</th>\n      <td>9</td>\n      <td>9</td>\n      <td>9</td>\n    </tr>\n    <tr>\n      <th>r2i1p2f1</th>\n      <td>9</td>\n      <td>9</td>\n      <td>9</td>\n    </tr>\n    <tr>\n      <th>r3i1p2f1</th>\n      <td>9</td>\n      <td>9</td>\n      <td>9</td>\n    </tr>\n    <tr>\n      <th>r3i1p2f1</th>\n      <td>9</td>\n      <td>9</td>\n      <td>9</td>\n    </tr>\n    <tr>\n      <th>r3i1p2f1</th>\n      <td>9</td>\n      <td>9</td>\n      <td>9</td>\n    </tr>\n    <tr>\n      <th>r4i1p2f1</th>\n      <td>9</td>\n      <td>9</td>\n      <td>9</td>\n    </tr>\n    <tr>\n      <th>r4i1p2f1</th>\n      <td>9</td>\n      <td>9</td>\n      <td>9</td>\n    </tr>\n    <tr>\n      <th>r4i1p2f1</th>\n      <td>9</td>\n      <td>9</td>\n      <td>9</td>\n    </tr>\n    <tr>\n      <th>r5i1p2f1</th>\n      <td>9</td>\n      <td>9</td>\n      <td>9</td>\n    </tr>\n    <tr>\n      <th>r5i1p2f1</th>\n      <td>9</td>\n      <td>9</td>\n      <td>9</td>\n    </tr>\n    <tr>\n      <th>r5i1p2f1</th>\n      <td>9</td>\n      <td>9</td>\n      <td>9</td>\n    </tr>\n    <tr>\n      <th>r6i1p2f1</th>\n      <td>9</td>\n      <td>9</td>\n      <td>9</td>\n    </tr>\n    <tr>\n      <th>r6i1p2f1</th>\n      <td>9</td>\n      <td>9</td>\n      <td>9</td>\n    </tr>\n    <tr>\n      <th>r6i1p2f1</th>\n      <td>9</td>\n      <td>9</td>\n      <td>9</td>\n    </tr>\n    <tr>\n      <th>r7i1p2f1</th>\n      <td>9</td>\n      <td>9</td>\n      <td>9</td>\n    </tr>\n    <tr>\n      <th>r7i1p2f1</th>\n      <td>9</td>\n      <td>9</td>\n      <td>9</td>\n    </tr>\n    <tr>\n      <th>r7i1p2f1</th>\n      <td>9</td>\n      <td>9</td>\n      <td>9</td>\n    </tr>\n    <tr>\n      <th>r8i1p2f1</th>\n      <td>9</td>\n      <td>9</td>\n      <td>9</td>\n    </tr>\n    <tr>\n      <th>r8i1p2f1</th>\n      <td>9</td>\n      <td>9</td>\n      <td>9</td>\n    </tr>\n    <tr>\n      <th>r8i1p2f1</th>\n      <td>9</td>\n      <td>9</td>\n      <td>9</td>\n    </tr>\n    <tr>\n      <th>r9i1p2f1</th>\n      <td>9</td>\n      <td>9</td>\n      <td>9</td>\n    </tr>\n    <tr>\n      <th>r9i1p2f1</th>\n      <td>9</td>\n      <td>9</td>\n      <td>9</td>\n    </tr>\n    <tr>\n      <th>r9i1p2f1</th>\n      <td>9</td>\n      <td>9</td>\n      <td>9</td>\n    </tr>\n    <tr>\n      <th rowspan=\"3\" valign=\"top\">MPI-ESM-1-2-HAM</th>\n      <th>r1i1p1f1</th>\n      <td>9</td>\n      <td>0</td>\n      <td>0</td>\n    </tr>\n    <tr>\n      <th>r2i1p1f1</th>\n      <td>9</td>\n      <td>0</td>\n      <td>0</td>\n    </tr>\n    <tr>\n      <th>r3i1p1f1</th>\n      <td>9</td>\n      <td>0</td>\n      <td>0</td>\n    </tr>\n    <tr>\n      <th rowspan=\"14\" valign=\"top\">MPI-ESM1-2-HR</th>\n      <th>r10i1p1f1</th>\n      <td>9</td>\n      <td>0</td>\n      <td>0</td>\n    </tr>\n    <tr>\n      <th>r1i1p1f1</th>\n      <td>9</td>\n      <td>9</td>\n      <td>9</td>\n    </tr>\n    <tr>\n      <th>r1i1p1f1</th>\n      <td>9</td>\n      <td>9</td>\n      <td>9</td>\n    </tr>\n    <tr>\n      <th>r1i1p1f1</th>\n      <td>9</td>\n      <td>9</td>\n      <td>9</td>\n    </tr>\n    <tr>\n      <th>r2i1p1f1</th>\n      <td>9</td>\n      <td>9</td>\n      <td>9</td>\n    </tr>\n    <tr>\n      <th>r2i1p1f1</th>\n      <td>9</td>\n      <td>9</td>\n      <td>9</td>\n    </tr>\n    <tr>\n      <th>r2i1p1f1</th>\n      <td>9</td>\n      <td>9</td>\n      <td>9</td>\n    </tr>\n    <tr>\n      <th>r3i1p1f1</th>\n      <td>9</td>\n      <td>0</td>\n      <td>0</td>\n    </tr>\n    <tr>\n      <th>r4i1p1f1</th>\n      <td>9</td>\n      <td>0</td>\n      <td>0</td>\n    </tr>\n    <tr>\n      <th>r5i1p1f1</th>\n      <td>9</td>\n      <td>0</td>\n      <td>0</td>\n    </tr>\n    <tr>\n      <th>r6i1p1f1</th>\n      <td>9</td>\n      <td>0</td>\n      <td>0</td>\n    </tr>\n    <tr>\n      <th>r7i1p1f1</th>\n      <td>9</td>\n      <td>0</td>\n      <td>0</td>\n    </tr>\n    <tr>\n      <th>r8i1p1f1</th>\n      <td>9</td>\n      <td>0</td>\n      <td>0</td>\n    </tr>\n    <tr>\n      <th>r9i1p1f1</th>\n      <td>9</td>\n      <td>0</td>\n      <td>0</td>\n    </tr>\n    <tr>\n      <th rowspan=\"30\" valign=\"top\">MPI-ESM1-2-LR</th>\n      <th>r10i1p1f1</th>\n      <td>9</td>\n      <td>9</td>\n      <td>9</td>\n    </tr>\n    <tr>\n      <th>r10i1p1f1</th>\n      <td>9</td>\n      <td>9</td>\n      <td>9</td>\n    </tr>\n    <tr>\n      <th>r10i1p1f1</th>\n      <td>9</td>\n      <td>9</td>\n      <td>9</td>\n    </tr>\n    <tr>\n      <th>r1i1p1f1</th>\n      <td>9</td>\n      <td>9</td>\n      <td>9</td>\n    </tr>\n    <tr>\n      <th>r1i1p1f1</th>\n      <td>9</td>\n      <td>9</td>\n      <td>9</td>\n    </tr>\n    <tr>\n      <th>r1i1p1f1</th>\n      <td>9</td>\n      <td>9</td>\n      <td>9</td>\n    </tr>\n    <tr>\n      <th>r2i1p1f1</th>\n      <td>9</td>\n      <td>9</td>\n      <td>9</td>\n    </tr>\n    <tr>\n      <th>r2i1p1f1</th>\n      <td>9</td>\n      <td>9</td>\n      <td>9</td>\n    </tr>\n    <tr>\n      <th>r2i1p1f1</th>\n      <td>9</td>\n      <td>9</td>\n      <td>9</td>\n    </tr>\n    <tr>\n      <th>r3i1p1f1</th>\n      <td>9</td>\n      <td>9</td>\n      <td>9</td>\n    </tr>\n    <tr>\n      <th>r3i1p1f1</th>\n      <td>9</td>\n      <td>9</td>\n      <td>9</td>\n    </tr>\n    <tr>\n      <th>r3i1p1f1</th>\n      <td>9</td>\n      <td>9</td>\n      <td>9</td>\n    </tr>\n    <tr>\n      <th>r4i1p1f1</th>\n      <td>9</td>\n      <td>9</td>\n      <td>9</td>\n    </tr>\n    <tr>\n      <th>r4i1p1f1</th>\n      <td>9</td>\n      <td>9</td>\n      <td>9</td>\n    </tr>\n    <tr>\n      <th>r4i1p1f1</th>\n      <td>9</td>\n      <td>9</td>\n      <td>9</td>\n    </tr>\n    <tr>\n      <th>r5i1p1f1</th>\n      <td>9</td>\n      <td>9</td>\n      <td>9</td>\n    </tr>\n    <tr>\n      <th>r5i1p1f1</th>\n      <td>9</td>\n      <td>9</td>\n      <td>9</td>\n    </tr>\n    <tr>\n      <th>r5i1p1f1</th>\n      <td>9</td>\n      <td>9</td>\n      <td>9</td>\n    </tr>\n    <tr>\n      <th>r6i1p1f1</th>\n      <td>9</td>\n      <td>9</td>\n      <td>9</td>\n    </tr>\n    <tr>\n      <th>r6i1p1f1</th>\n      <td>9</td>\n      <td>9</td>\n      <td>9</td>\n    </tr>\n    <tr>\n      <th>r6i1p1f1</th>\n      <td>9</td>\n      <td>9</td>\n      <td>9</td>\n    </tr>\n    <tr>\n      <th>r7i1p1f1</th>\n      <td>9</td>\n      <td>9</td>\n      <td>9</td>\n    </tr>\n    <tr>\n      <th>r7i1p1f1</th>\n      <td>9</td>\n      <td>9</td>\n      <td>9</td>\n    </tr>\n    <tr>\n      <th>r7i1p1f1</th>\n      <td>9</td>\n      <td>9</td>\n      <td>9</td>\n    </tr>\n    <tr>\n      <th>r8i1p1f1</th>\n      <td>9</td>\n      <td>9</td>\n      <td>9</td>\n    </tr>\n    <tr>\n      <th>r8i1p1f1</th>\n      <td>9</td>\n      <td>9</td>\n      <td>9</td>\n    </tr>\n    <tr>\n      <th>r8i1p1f1</th>\n      <td>9</td>\n      <td>9</td>\n      <td>9</td>\n    </tr>\n    <tr>\n      <th>r9i1p1f1</th>\n      <td>9</td>\n      <td>9</td>\n      <td>9</td>\n    </tr>\n    <tr>\n      <th>r9i1p1f1</th>\n      <td>9</td>\n      <td>9</td>\n      <td>9</td>\n    </tr>\n    <tr>\n      <th>r9i1p1f1</th>\n      <td>9</td>\n      <td>9</td>\n      <td>9</td>\n    </tr>\n    <tr>\n      <th rowspan=\"18\" valign=\"top\">UKESM1-0-LL</th>\n      <th>r13i1p1f2</th>\n      <td>9</td>\n      <td>4</td>\n      <td>0</td>\n    </tr>\n    <tr>\n      <th>r1i1p1f2</th>\n      <td>9</td>\n      <td>9</td>\n      <td>9</td>\n    </tr>\n    <tr>\n      <th>r1i1p1f2</th>\n      <td>9</td>\n      <td>9</td>\n      <td>9</td>\n    </tr>\n    <tr>\n      <th>r1i1p1f2</th>\n      <td>9</td>\n      <td>9</td>\n      <td>9</td>\n    </tr>\n    <tr>\n      <th>r2i1p1f2</th>\n      <td>9</td>\n      <td>9</td>\n      <td>9</td>\n    </tr>\n    <tr>\n      <th>r2i1p1f2</th>\n      <td>9</td>\n      <td>9</td>\n      <td>9</td>\n    </tr>\n    <tr>\n      <th>r2i1p1f2</th>\n      <td>9</td>\n      <td>9</td>\n      <td>9</td>\n    </tr>\n    <tr>\n      <th>r3i1p1f2</th>\n      <td>9</td>\n      <td>9</td>\n      <td>9</td>\n    </tr>\n    <tr>\n      <th>r3i1p1f2</th>\n      <td>9</td>\n      <td>9</td>\n      <td>9</td>\n    </tr>\n    <tr>\n      <th>r3i1p1f2</th>\n      <td>9</td>\n      <td>9</td>\n      <td>9</td>\n    </tr>\n    <tr>\n      <th>r4i1p1f2</th>\n      <td>9</td>\n      <td>9</td>\n      <td>9</td>\n    </tr>\n    <tr>\n      <th>r4i1p1f2</th>\n      <td>9</td>\n      <td>9</td>\n      <td>9</td>\n    </tr>\n    <tr>\n      <th>r4i1p1f2</th>\n      <td>9</td>\n      <td>9</td>\n      <td>9</td>\n    </tr>\n    <tr>\n      <th>r5i1p1f3</th>\n      <td>9</td>\n      <td>0</td>\n      <td>0</td>\n    </tr>\n    <tr>\n      <th>r6i1p1f3</th>\n      <td>9</td>\n      <td>0</td>\n      <td>0</td>\n    </tr>\n    <tr>\n      <th>r7i1p1f3</th>\n      <td>9</td>\n      <td>0</td>\n      <td>0</td>\n    </tr>\n    <tr>\n      <th>r8i1p1f2</th>\n      <td>5</td>\n      <td>9</td>\n      <td>9</td>\n    </tr>\n    <tr>\n      <th>r8i1p1f2</th>\n      <td>5</td>\n      <td>9</td>\n      <td>9</td>\n    </tr>\n  </tbody>\n</table>\n</div>"
     },
     "execution_count": 6,
     "metadata": {},
     "output_type": "execute_result"
    }
   ],
   "source": [
    "#dm2=dm[dm[\"experiment_id\"] in dm[\"historical\",\"ssp585\"]]\n",
    "#print(dm2)\n",
    "table = pd.DataFrame.pivot_table(dm, values=\"variable_id\", index=[\"source_id\",\"member_id\"],\n",
    "                                 columns=[\"grid_label\",\"experiment_id\"], aggfunc=np.sum, fill_value=0)\n",
    "\n",
    "table[(table.values>=9)]"
   ],
   "metadata": {
    "collapsed": false,
    "pycharm": {
     "name": "#%%\n"
    }
   }
  },
  {
   "cell_type": "code",
   "execution_count": 7,
   "metadata": {
    "pycharm": {
     "name": "#%%\n"
    }
   },
   "outputs": [
    {
     "ename": "AttributeError",
     "evalue": "'DataFrame' object has no attribute 'sithick'",
     "output_type": "error",
     "traceback": [
      "\u001B[0;31m---------------------------------------------------------------------------\u001B[0m",
      "\u001B[0;31mAttributeError\u001B[0m                            Traceback (most recent call last)",
      "\u001B[0;32m<ipython-input-7-b24046283b54>\u001B[0m in \u001B[0;36m<module>\u001B[0;34m\u001B[0m\n\u001B[1;32m      1\u001B[0m \u001B[0;31m#table[(table.uas>0)&(table.vas>0)&(table.chl>0)&(table.clt>0)&(table.sisnconc>0)&(table.sisnthick>0)&(table.siconc>0)&(table.sithick>0)]\u001B[0m\u001B[0;34m\u001B[0m\u001B[0;34m\u001B[0m\u001B[0;34m\u001B[0m\u001B[0m\n\u001B[0;32m----> 2\u001B[0;31m \u001B[0mtable\u001B[0m\u001B[0;34m[\u001B[0m\u001B[0;34m(\u001B[0m\u001B[0mtable\u001B[0m\u001B[0;34m.\u001B[0m\u001B[0msithick\u001B[0m\u001B[0;34m>\u001B[0m\u001B[0;36m0\u001B[0m\u001B[0;34m)\u001B[0m\u001B[0;34m&\u001B[0m\u001B[0;34m(\u001B[0m\u001B[0mtable\u001B[0m\u001B[0;34m.\u001B[0m\u001B[0msiconc\u001B[0m\u001B[0;34m>\u001B[0m\u001B[0;36m0\u001B[0m\u001B[0;34m)\u001B[0m\u001B[0;34m&\u001B[0m\u001B[0;34m(\u001B[0m\u001B[0mtable\u001B[0m\u001B[0;34m.\u001B[0m\u001B[0msisnconc\u001B[0m\u001B[0;34m>\u001B[0m\u001B[0;36m0\u001B[0m\u001B[0;34m)\u001B[0m\u001B[0;34m&\u001B[0m\u001B[0;34m(\u001B[0m\u001B[0mtable\u001B[0m\u001B[0;34m.\u001B[0m\u001B[0msisnthick\u001B[0m\u001B[0;34m>\u001B[0m\u001B[0;36m0\u001B[0m\u001B[0;34m)\u001B[0m\u001B[0;34m]\u001B[0m\u001B[0;34m\u001B[0m\u001B[0;34m\u001B[0m\u001B[0m\n\u001B[0m\u001B[1;32m      3\u001B[0m \u001B[0mprint\u001B[0m\u001B[0;34m(\u001B[0m\u001B[0mdm\u001B[0m\u001B[0;34m)\u001B[0m\u001B[0;34m\u001B[0m\u001B[0;34m\u001B[0m\u001B[0m\n\u001B[1;32m      4\u001B[0m \u001B[0;34m\u001B[0m\u001B[0m\n",
      "\u001B[0;32m/opt/anaconda3/envs/iris/lib/python3.9/site-packages/pandas/core/generic.py\u001B[0m in \u001B[0;36m__getattr__\u001B[0;34m(self, name)\u001B[0m\n\u001B[1;32m   5463\u001B[0m             \u001B[0;32mif\u001B[0m \u001B[0mself\u001B[0m\u001B[0;34m.\u001B[0m\u001B[0m_info_axis\u001B[0m\u001B[0;34m.\u001B[0m\u001B[0m_can_hold_identifiers_and_holds_name\u001B[0m\u001B[0;34m(\u001B[0m\u001B[0mname\u001B[0m\u001B[0;34m)\u001B[0m\u001B[0;34m:\u001B[0m\u001B[0;34m\u001B[0m\u001B[0;34m\u001B[0m\u001B[0m\n\u001B[1;32m   5464\u001B[0m                 \u001B[0;32mreturn\u001B[0m \u001B[0mself\u001B[0m\u001B[0;34m[\u001B[0m\u001B[0mname\u001B[0m\u001B[0;34m]\u001B[0m\u001B[0;34m\u001B[0m\u001B[0;34m\u001B[0m\u001B[0m\n\u001B[0;32m-> 5465\u001B[0;31m             \u001B[0;32mreturn\u001B[0m \u001B[0mobject\u001B[0m\u001B[0;34m.\u001B[0m\u001B[0m__getattribute__\u001B[0m\u001B[0;34m(\u001B[0m\u001B[0mself\u001B[0m\u001B[0;34m,\u001B[0m \u001B[0mname\u001B[0m\u001B[0;34m)\u001B[0m\u001B[0;34m\u001B[0m\u001B[0;34m\u001B[0m\u001B[0m\n\u001B[0m\u001B[1;32m   5466\u001B[0m \u001B[0;34m\u001B[0m\u001B[0m\n\u001B[1;32m   5467\u001B[0m     \u001B[0;32mdef\u001B[0m \u001B[0m__setattr__\u001B[0m\u001B[0;34m(\u001B[0m\u001B[0mself\u001B[0m\u001B[0;34m,\u001B[0m \u001B[0mname\u001B[0m\u001B[0;34m:\u001B[0m \u001B[0mstr\u001B[0m\u001B[0;34m,\u001B[0m \u001B[0mvalue\u001B[0m\u001B[0;34m)\u001B[0m \u001B[0;34m->\u001B[0m \u001B[0;32mNone\u001B[0m\u001B[0;34m:\u001B[0m\u001B[0;34m\u001B[0m\u001B[0;34m\u001B[0m\u001B[0m\n",
      "\u001B[0;31mAttributeError\u001B[0m: 'DataFrame' object has no attribute 'sithick'"
     ]
    }
   ],
   "source": [
    "#table[(table.uas>0)&(table.vas>0)&(table.chl>0)&(table.clt>0)&(table.sisnconc>0)&(table.sisnthick>0)&(table.siconc>0)&(table.sithick>0)]\n",
    "table[(table.sithick>0)&(table.siconc>0)&(table.sisnconc>0)&(table.sisnthick>0)]\n",
    "print(dm)\n"
   ]
  }
 ],
 "metadata": {
  "kernelspec": {
   "display_name": "Python 3",
   "language": "python",
   "name": "python3"
  },
  "language_info": {
   "codemirror_mode": {
    "name": "ipython",
    "version": 3
   },
   "file_extension": ".py",
   "mimetype": "text/x-python",
   "name": "python",
   "nbconvert_exporter": "python",
   "pygments_lexer": "ipython3",
   "version": "3.7.6"
  }
 },
 "nbformat": 4,
 "nbformat_minor": 4
}