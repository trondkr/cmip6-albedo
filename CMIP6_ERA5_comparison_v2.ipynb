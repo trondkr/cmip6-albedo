{
 "cells": [
  {
   "cell_type": "code",
   "execution_count": 169,
   "metadata": {
    "collapsed": true
   },
   "outputs": [],
   "source": [
    "import datetime\n",
    "\n",
    "import netCDF4\n",
    "import pandas as pd\n",
    "import xarray as xr\n",
    "import matplotlib as mpl\n",
    "import cdsapi\n",
    "import numpy as np\n",
    "import seaborn as sns\n",
    "import warnings\n",
    "import geopandas as gp\n",
    "import regionmask\n",
    "import matplotlib.pyplot as plt\n",
    "import pandas as pd\n",
    "warnings.filterwarnings('ignore')\n",
    "from tabulate import tabulate\n",
    "plt.style.use('mpl15')\n",
    "import cftime\n",
    "import cartopy.crs as ccrs\n",
    "import pvlib\n",
    "from global_land_mask import globe\n",
    "\n",
    "#xr.set_options(display_style=\"html\")"
   ]
  },
  {
   "cell_type": "code",
   "execution_count": 170,
   "outputs": [
    {
     "name": "stdout",
     "output_type": "stream",
     "text": [
      "CPU times: user 5 µs, sys: 1e+03 ns, total: 6 µs\n",
      "Wall time: 7.15 µs\n"
     ]
    }
   ],
   "source": [
    "%%time\n",
    "# Here, we use the ERA5 data and the Python API interface to cdsapi.\n",
    "#\n",
    "# https://www.ecmwf.int/sites/default/files/elibrary/2015/18490-radiation-quantities-ecmwf-model-and-mars.pdf\n",
    "# ERA5, Monthly Means of Daily Forecast Accumulations\n",
    "# https://cds.climate.copernicus.eu/cdsapp#!/dataset/reanalysis-era5-single-levels-monthly-means?tab=form\n",
    "def get_era5(station, step):\n",
    "    c = cdsapi.Client()\n",
    "\n",
    "    years = ['2000','2001','2002','2003','2004','2005','2006','2007','2008','2009','2010',\n",
    "             '2011','2012','2013','2014','2015','2016','2017','2018','2019']\n",
    "\n",
    "    c.retrieve(\n",
    "    'reanalysis-era5-single-levels-monthly-means',\n",
    "    {\n",
    "        'product_type': 'monthly_averaged_reanalysis_by_hour_of_day',\n",
    "        'variable': [\n",
    "            'clear_sky_direct_solar_radiation_at_surface',\n",
    "            'downward_uv_radiation_at_the_surface',\n",
    "            'surface_solar_radiation_downward_clear_sky',\n",
    "            'surface_solar_radiation_downwards',\n",
    "        ],\n",
    "        'year': ['2000','2001','2002','2003','2004','2005','2006','2007','2008','2009'],\n",
    "        'month': [\n",
    "            '01', '02', '03',\n",
    "            '04', '05', '06',\n",
    "            '07', '08', '09',\n",
    "            '10', '11', '12',\n",
    "        ],\n",
    "        'time': [\n",
    "            '00:00', '01:00', '02:00',\n",
    "            '03:00', '04:00', '05:00',\n",
    "            '06:00', '07:00', '08:00',\n",
    "            '09:00', '10:00', '11:00',\n",
    "            '12:00', '13:00', '14:00',\n",
    "            '15:00', '16:00', '17:00',\n",
    "            '18:00', '19:00', '20:00',\n",
    "            '21:00', '22:00', '23:00',\n",
    "        ],\n",
    "        'area': [\n",
    "            90, -180, 50,\n",
    "            180,\n",
    "        ],\n",
    "        'format': 'netcdf',\n",
    "    },\n",
    "        \"../oceanography/light/ncfiles/ERA5_global_hourly_shortwave.nc\")"
   ],
   "metadata": {
    "collapsed": false,
    "pycharm": {
     "name": "#%%\n"
    }
   }
  },
  {
   "cell_type": "code",
   "execution_count": 171,
   "outputs": [
    {
     "name": "stdout",
     "output_type": "stream",
     "text": [
      "CPU times: user 3 µs, sys: 0 ns, total: 3 µs\n",
      "Wall time: 5.72 µs\n"
     ]
    }
   ],
   "source": [
    "%%time\n",
    "stations=[{\"name\":\"Chukchi_sea\",\n",
    "           \"lat\":69.25,\n",
    "           \"lon\":-171}]\n",
    "\n",
    "for i, station in enumerate(stations):\n",
    "    step=3\n",
    "    #get_era5(station, step)"
   ],
   "metadata": {
    "collapsed": false,
    "pycharm": {
     "name": "#%%\n"
    }
   }
  },
  {
   "cell_type": "code",
   "execution_count": 172,
   "outputs": [],
   "source": [
    "def convert_to_180(ds):\n",
    "    return ds.assign_coords(lon=(((ds.lon + 180) % 360) - 180)).sortby('lon')\n",
    "\n"
   ],
   "metadata": {
    "collapsed": false,
    "pycharm": {
     "name": "#%%\n"
    }
   }
  },
  {
   "cell_type": "code",
   "execution_count": 173,
   "outputs": [],
   "source": [
    "def get_era5(era_datafile, start_time, end_time):\n",
    "    era = netCDF4.Dataset(era_datafile)\n",
    "    print(era)\n",
    "    units = 'hours since 1900-01-01 00:00:00.0'\n",
    "    time_gregorian = cftime.num2date(era.variables[\"time\"], units, 'gregorian')\n",
    "    units_to_wm2 =1./3600.\n",
    "\n",
    "    times=[]\n",
    "    for t in time_gregorian:\n",
    "        obj = datetime.datetime(year=t.year, month=t.month, day=t.month, hour=t.hour)\n",
    "        times.append(obj)\n",
    "    times = pd.to_datetime(times,dayfirst=False)\n",
    "\n",
    "    era = xr.open_dataset(era_datafile,\n",
    "                          mask_and_scale=True)*units_to_wm2\n",
    "\n",
    "    era = era.assign_coords({\"time\":times,\"latitude\":era.latitude,\"longitude\":era.longitude})\n",
    "    return era.rename({\"latitude\":\"lat\", \"longitude\":\"lon\"}).sel(time=slice(start_time,end_time))\n",
    "\n",
    "def get_mean_era5(era_datafile, start_time, end_time):\n",
    "    era = netCDF4.Dataset(era_datafile)\n",
    "\n",
    "    units = 'hours since 1900-01-01 00:00:00.0'\n",
    "    time_gregorian = cftime.num2date(era.variables[\"time\"], units, 'gregorian')\n",
    "    units_to_wm2 =1.\n",
    "\n",
    "    times=[]\n",
    "    for t in time_gregorian:\n",
    "        obj = datetime.datetime(year=t.year, month=t.month, day=t.month, hour=t.hour)\n",
    "        times.append(obj)\n",
    "    times = pd.to_datetime(times,dayfirst=False)\n",
    "\n",
    "    era = xr.open_dataset(era_datafile,\n",
    "                          mask_and_scale=True)*units_to_wm2\n",
    "\n",
    "    era = era.assign_coords({\"time\":times,\"latitude\":era.latitude,\"longitude\":era.longitude})\n",
    "    return era.rename({\"latitude\":\"lat\", \"longitude\":\"lon\"}).sel(time=slice(start_time,end_time))"
   ],
   "metadata": {
    "collapsed": false,
    "pycharm": {
     "name": "#%%\n"
    }
   }
  },
  {
   "cell_type": "code",
   "execution_count": 174,
   "outputs": [],
   "source": [
    "def haversine(lon1, lat1, lon2, lat2):\n",
    "\n",
    "    lon1, lat1, lon2, lat2 = map(np.radians, [lon1, lat1, lon2, lat2])\n",
    "\n",
    "    newlon = lon2 - lon1\n",
    "    newlat = lat2 - lat1\n",
    "\n",
    "    haver_formula = np.sin(newlat/2.0)**2 + np.cos(lat1) * np.cos(lat2) * np.sin(newlon/2.0)**2\n",
    "\n",
    "    dist = 2 * np.arcsin(np.sqrt(haver_formula ))\n",
    "    km = 6367 * dist #6367 for distance in KM for miles use 3958\n",
    "    return km\n",
    "\n",
    "def get_area_averaged_ds(fname,min_lat,max_lat,min_lon,max_lon,var_name):\n",
    "\n",
    "    with xr.open_dataset(fname) as ds:\n",
    "     #   ds=convert_to_180(ds)\n",
    "        ds=ds.sel(time=slice(start_time,end_time)).sel(lat=slice(min_lat,max_lat), lon=slice(min_lon,max_lon))\n",
    "        lon_c,lat_c=np.meshgrid(ds.lon.values,ds.lat.values)\n",
    "        is_in_ocean_c = globe.is_ocean(lat_c,lon_c)\n",
    "        ds.coords['mask'] = (('lat', 'lon'), is_in_ocean_c)\n",
    "\n",
    "        ds = ds[var_name].where(ds.mask==1).fillna(0)\n",
    "        ds = ds.mean({\"lat\",\"lon\"})\n",
    "       # ds = ds.resample(time=\"MS\").mean()\n",
    "        df = ds.to_dataframe().dropna()\n",
    "        df = df.reset_index()\n",
    "        return df"
   ],
   "metadata": {
    "collapsed": false,
    "pycharm": {
     "name": "#%%\n"
    }
   }
  },
  {
   "cell_type": "code",
   "execution_count": null,
   "outputs": [
    {
     "name": "stdout",
     "output_type": "stream",
     "text": [
      "<class 'netCDF4._netCDF4.Dataset'>\n",
      "root group (NETCDF3_64BIT_OFFSET data model, file format NETCDF3):\n",
      "    Conventions: CF-1.6\n",
      "    history: 2021-06-02 01:38:36 GMT by grib_to_netcdf-2.16.0: /opt/ecmwf/eccodes/bin/grib_to_netcdf -S param -o /cache/data1/adaptor.mars.internal-1622596239.3499503-13803-5-16882e67-daa1-454e-8d86-18bfa63f69eb.nc /cache/tmp/16882e67-daa1-454e-8d86-18bfa63f69eb-adaptor.mars.internal-1622596239.3505805-13803-2-tmp.grib\n",
      "    dimensions(sizes): longitude(1440), latitude(161), time(2880)\n",
      "    variables(dimensions): float32 longitude(longitude), float32 latitude(latitude), int32 time(time), int16 cdir(time, latitude, longitude), int16 uvb(time, latitude, longitude), int16 ssrdc(time, latitude, longitude), int16 ssrd(time, latitude, longitude)\n",
      "    groups: \n"
     ]
    }
   ],
   "source": [
    "%%time\n",
    "scenarios=[\"ssp585\"]\n",
    "ensemble_id=\"r1i1p1f1\"\n",
    "period=\"2000-01-01-2009-12-16\"\n",
    "start_time=\"2000-01-01\"\n",
    "end_time=\"2009-12-16\"\n",
    "\n",
    "models=[\"ACCESS-ESM1-5\"]\n",
    "era_var_name=\"ssrd\"\n",
    "#era_var_name=\"msdwswrf\"\n",
    "ds_var_name1=\"ghi\"\n",
    "ds_var_name2=\"osa\"\n",
    "ds_var_name3=\"drair\"\n",
    "ds_var_name4=\"dfair\"\n",
    "\n",
    "area_name= \"Southern Norway\" #\"North and East Barents Sea\" #\"Gulf of Alaska\" # #\"Southern Norway\" #\"North and East Barents Sea\" #\"Gulf of Alaska\" #\"North and East Iceland\" #\"North and East Barents Sea\" #\"High Arctic Archipelago\"\n",
    "region_code=2\n",
    "# Converting units see here:\n",
    "# https://confluence.ecmwf.int/display/CKB/ERA5%3A+data+documentation#ERA5:datadocumentation-Monthlymeans\n",
    "do_map=True\n",
    "\n",
    "era_datafile=\"../oceanography/light/ncfiles/ERA5_global_hourly_shortwave.nc\"\n",
    "#era_datafile=\"../oceanography/light/ncfiles/ERA5_global_shortwave.nc\"\n",
    "\n",
    "era = get_era5(era_datafile, start_time, end_time)\n",
    "#era = get_mean_era5(era_datafile, start_time, end_time)\n",
    "\n",
    "#distance = haversine(lon1,lat1,lon2,lat2)\n",
    "\n",
    "min_lat=50\n",
    "max_lat=90\n",
    "min_lon=-30\n",
    "max_lon=18\n",
    "era = era.reindex(lat=list(reversed(era.lat)))\n",
    "era = era.sel(lat=slice(min_lat,max_lat),lon=slice(min_lon,max_lon))\n",
    "\n",
    "lon1,lat1=np.meshgrid(era.lon.values,era.lat.values)\n",
    "is_in_ocean = globe.is_ocean(lat1,lon1)\n",
    "era.coords['mask'] = (('lat', 'lon'), is_in_ocean)\n",
    "\n",
    "era = era[era_var_name].where(era.mask==1).fillna(0)\n",
    "era = era.mean({\"lat\",\"lon\"})\n",
    "era = era.resample(time=\"MS\", loffset=pd.Timedelta(14, 'd')).mean()\n",
    "\n",
    "for i, station in enumerate(stations):\n",
    "\n",
    "    era_df=era.to_dataframe().reset_index()\n",
    "\n",
    "    for scenario in scenarios:\n",
    "        for model in models:\n",
    "            fname=\"../oceanography/light/ncfiles/{}_{}_{}_{}_scenario_osa_{}.nc\".format(ds_var_name1, model, ensemble_id,period,scenario)\n",
    "\n",
    "            df1 = get_area_averaged_ds(fname,min_lat,max_lat,min_lon,max_lon,ds_var_name1)\n",
    "\n",
    "            fname2=\"../oceanography/light/ncfiles/{}_{}_{}_{}_scenario_osa_{}.nc\".format(ds_var_name2,model, ensemble_id,period,scenario)\n",
    "            df2 = get_area_averaged_ds(fname2,min_lat,max_lat,min_lon,max_lon,ds_var_name2)\n",
    "\n",
    "            fname3=\"../oceanography/light/ncfiles/{}_{}_{}_{}_scenario_osa_{}.nc\".format(ds_var_name3,model, ensemble_id,period,scenario)\n",
    "            df3 = get_area_averaged_ds(fname3,min_lat,max_lat,min_lon,max_lon,ds_var_name3)\n",
    "\n",
    "            fname4=\"../oceanography/light/ncfiles/{}_{}_{}_{}_scenario_osa_{}.nc\".format(ds_var_name4,model, ensemble_id,period,scenario)\n",
    "            df4 = get_area_averaged_ds(fname4,min_lat,max_lat,min_lon,max_lon,ds_var_name4)\n",
    "\n",
    "            df3[\"dr\"]=df3[ds_var_name3]+df4[ds_var_name4]\n",
    "            fig3, axes3 = plt.subplots(1, 1)\n",
    "            sns.lineplot(ax=axes3, data=era_df, x=era_df.time.dt.month,\n",
    "                         y=era_var_name, #hue=era_df.time.dt.month,\n",
    "                         ci=95, alpha=0.95,\n",
    "                             legend=\"auto\", label=\"ERA5\", linewidth=2)\n",
    "            sns.lineplot(ax=axes3, data=df1, x=df1.time.dt.month, y=ds_var_name1,\n",
    "                         ci=95, alpha=0.95,#hue=df1.time.dt.month,\n",
    "                         legend=\"auto\", label=\"CMIP6 {}\".format(ds_var_name1), linewidth=2, linestyle=\"--\")\n",
    "            sns.lineplot(ax=axes3, data=df2, x=df2.time.dt.month, y=ds_var_name2,\n",
    "                         ci=95, alpha=0.95,\n",
    "                         legend=\"auto\", label=\"CMIP6 {}\".format(ds_var_name2))\n",
    "\n",
    "            fig2, axes2 = plt.subplots(1, 1)\n",
    "            sns.lineplot(ax=axes2, data=df3, x=df3.time.dt.month, y=\"dr\", #hue=df3.time.dt.month,\n",
    "                         ci=95, alpha=0.95,\n",
    "                         legend=\"auto\", label=\"CMIP6 dr+df\")\n",
    "            print(\"Correlation\", df1.corrwith(era_df[era_var_name]))"
   ],
   "metadata": {
    "collapsed": false,
    "pycharm": {
     "name": "#%%\n",
     "is_executing": true
    }
   }
  },
  {
   "cell_type": "code",
   "execution_count": null,
   "outputs": [],
   "source": [],
   "metadata": {
    "collapsed": false,
    "pycharm": {
     "name": "#%%\n",
     "is_executing": true
    }
   }
  }
 ],
 "metadata": {
  "kernelspec": {
   "display_name": "Python 3",
   "language": "python",
   "name": "python3"
  },
  "language_info": {
   "codemirror_mode": {
    "name": "ipython",
    "version": 2
   },
   "file_extension": ".py",
   "mimetype": "text/x-python",
   "name": "python",
   "nbconvert_exporter": "python",
   "pygments_lexer": "ipython2",
   "version": "2.7.6"
  }
 },
 "nbformat": 4,
 "nbformat_minor": 0
}